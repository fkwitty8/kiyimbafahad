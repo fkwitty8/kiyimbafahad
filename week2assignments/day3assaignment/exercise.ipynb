{
 "cells": [
  {
   "cell_type": "code",
   "execution_count": null,
   "id": "7c667d21",
   "metadata": {},
   "outputs": [],
   "source": [
    "#graph max pulse\n",
    "  "
   ]
  },
  {
   "cell_type": "code",
   "execution_count": null,
   "id": "48d978f3",
   "metadata": {},
   "outputs": [],
   "source": [
    "#graph for calories"
   ]
  }
 ],
 "metadata": {
  "language_info": {
   "name": "python"
  }
 },
 "nbformat": 4,
 "nbformat_minor": 5
}
