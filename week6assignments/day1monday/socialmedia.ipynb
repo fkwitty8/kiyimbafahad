{
 "cells": [
  {
   "cell_type": "code",
   "execution_count": null,
   "id": "f8de39d2",
   "metadata": {},
   "outputs": [],
   "source": [
    "#Graded assignment(20):create an AI agent that automates tasks of creating posts on social media platforms like Facebook, Instagram, and Twitter."
   ]
  },
  {
   "cell_type": "code",
   "execution_count": null,
   "id": "1e527b12",
   "metadata": {},
   "outputs": [],
   "source": [
    "import tweepy\n",
    "api_key = \"SEqQ2PJmcQLdm8iGtkCWJ97TD\"\n",
    "api_secret = \"IyXmsv4MT2v48zRZbohM8vG8nUTMy6UQWHuokt1y6VaUzxb636\"\n",
    "access_token = \"1739122030727880704-MjYOsCQLSr2vknQNvlMNZoATYYrTx9\"\n",
    "access_token_secret = \"isXex5OpZp1FhGTX5KXGf3m6XMAz0uIpZxrw4ASd3npd6\"\n",
    "bearer_token = \"AAAAAAAAAAAAAAAAAAAAAJR12wEAAAAAJF51IGcGC8grDIcAHpSbx1TJXkM%3D18Qr988W6PY40d6X0qA5jmfyIngBYtqmYPBGLuj4QrF1ER9qah\"\n"
   ]
  },
  {
   "cell_type": "code",
   "execution_count": null,
   "id": "139d554e",
   "metadata": {},
   "outputs": [],
   "source": [
    "#connecting the bot to the API\n",
    "client=tweepy.Client(\n",
    "    consumer_key=api_key,\n",
    "    consumer_secret=api_secret,\n",
    "    access_token=access_token,\n",
    "    access_token_secret=access_token_secret,\n",
    "    bearer_token=bearer_token\n",
    ")\n",
    "\n",
    "# incase of features of other tweepy versions\n",
    "auth = tweepy.OAuth1UserHandler(consumer_key=api_key,\n",
    "    consumer_secret=api_secret,\n",
    "    access_token=access_token,\n",
    "    access_token_secret=access_token_secret,\n",
    "    )\n",
    "\n",
    "api=tweepy.API(auth, wait_on_rate_limit=True)"
   ]
  },
  {
   "cell_type": "code",
   "execution_count": null,
   "id": "3297bdb6",
   "metadata": {},
   "outputs": [],
   "source": [
    "#creating a tweet\n",
    "client.create_tweet(text=\"it's crazy out here!\")"
   ]
  }
 ],
 "metadata": {
  "kernelspec": {
   "display_name": "myenv",
   "language": "python",
   "name": "python3"
  },
  "language_info": {
   "name": "python",
   "version": "3.12.7"
  }
 },
 "nbformat": 4,
 "nbformat_minor": 5
}
